{
 "cells": [
  {
   "cell_type": "markdown",
   "id": "6ab73efa-d0a2-4fed-b3a9-728418abcd98",
   "metadata": {},
   "source": [
    "# Imports"
   ]
  },
  {
   "cell_type": "code",
   "execution_count": 18,
   "id": "b5326773-760c-4966-8213-1c29734cafb3",
   "metadata": {},
   "outputs": [],
   "source": [
    "import json\n",
    "import os\n",
    "import time\n",
    "\n",
    "import matplotlib.pyplot as plt\n",
    "import numpy as np\n",
    "import pandas as pd\n",
    "import torch\n",
    "import torch.nn as nn\n",
    "import torch.nn.functional as F\n",
    "import torchvision.models as models\n",
    "\n",
    "from torchinfo import summary"
   ]
  },
  {
   "cell_type": "code",
   "execution_count": null,
   "id": "16edb0fd-b34e-4389-931d-17e44235384e",
   "metadata": {},
   "outputs": [],
   "source": [
    "path = \"./\"\n",
    "root = \"../\"\n",
    "\n",
    "SEED = 23\n",
    "\n",
    "LR = 1e-3\n",
    "BATCH_SIZE = 16\n",
    "PRINT_ITERS = 5"
   ]
  },
  {
   "cell_type": "code",
   "execution_count": null,
   "id": "f9fe40a5-5901-47a5-8af3-d546bd1bde94",
   "metadata": {},
   "outputs": [],
   "source": [
    "drive = None\n",
    "# from google.colab import drive\n",
    "# drive.mount('/content/drive')"
   ]
  },
  {
   "cell_type": "code",
   "execution_count": null,
   "id": "875141f1-226d-4474-be8b-14ec98d9464a",
   "metadata": {},
   "outputs": [],
   "source": [
    "device = torch.device(\"cuda\") if torch.cuda.is_available() else torch.device(\"cpu\")\n",
    "\n",
    "root = root if drive is None else \"/content/drive/MyDrive/crowd-counting\"\n",
    "path = path #######"
   ]
  },
  {
   "cell_type": "markdown",
   "id": "6f030f81-975e-4814-8dab-d120a93be379",
   "metadata": {},
   "source": [
    "# Data and model exploration for now"
   ]
  },
  {
   "cell_type": "code",
   "execution_count": 6,
   "id": "58e61d28-2839-4706-9af5-64bf4e6741f0",
   "metadata": {},
   "outputs": [],
   "source": [
    "model = models.resnet18(weights='ResNet18_Weights.DEFAULT')"
   ]
  },
  {
   "cell_type": "code",
   "execution_count": 15,
   "id": "6c02acba-1f77-4f98-9fa4-5f106cb569a4",
   "metadata": {},
   "outputs": [
    {
     "data": {
      "text/plain": [
       "==========================================================================================\n",
       "Layer (type:depth-idx)                   Output Shape              Param #\n",
       "==========================================================================================\n",
       "ResNet                                   [8, 1000]                 --\n",
       "├─Conv2d: 1-1                            [8, 64, 112, 112]         9,408\n",
       "├─BatchNorm2d: 1-2                       [8, 64, 112, 112]         128\n",
       "├─ReLU: 1-3                              [8, 64, 112, 112]         --\n",
       "├─MaxPool2d: 1-4                         [8, 64, 56, 56]           --\n",
       "├─Sequential: 1-5                        [8, 64, 56, 56]           --\n",
       "│    └─BasicBlock: 2-1                   [8, 64, 56, 56]           --\n",
       "│    │    └─Conv2d: 3-1                  [8, 64, 56, 56]           36,864\n",
       "│    │    └─BatchNorm2d: 3-2             [8, 64, 56, 56]           128\n",
       "│    │    └─ReLU: 3-3                    [8, 64, 56, 56]           --\n",
       "│    │    └─Conv2d: 3-4                  [8, 64, 56, 56]           36,864\n",
       "│    │    └─BatchNorm2d: 3-5             [8, 64, 56, 56]           128\n",
       "│    │    └─ReLU: 3-6                    [8, 64, 56, 56]           --\n",
       "│    └─BasicBlock: 2-2                   [8, 64, 56, 56]           --\n",
       "│    │    └─Conv2d: 3-7                  [8, 64, 56, 56]           36,864\n",
       "│    │    └─BatchNorm2d: 3-8             [8, 64, 56, 56]           128\n",
       "│    │    └─ReLU: 3-9                    [8, 64, 56, 56]           --\n",
       "│    │    └─Conv2d: 3-10                 [8, 64, 56, 56]           36,864\n",
       "│    │    └─BatchNorm2d: 3-11            [8, 64, 56, 56]           128\n",
       "│    │    └─ReLU: 3-12                   [8, 64, 56, 56]           --\n",
       "├─Sequential: 1-6                        [8, 128, 28, 28]          --\n",
       "│    └─BasicBlock: 2-3                   [8, 128, 28, 28]          --\n",
       "│    │    └─Conv2d: 3-13                 [8, 128, 28, 28]          73,728\n",
       "│    │    └─BatchNorm2d: 3-14            [8, 128, 28, 28]          256\n",
       "│    │    └─ReLU: 3-15                   [8, 128, 28, 28]          --\n",
       "│    │    └─Conv2d: 3-16                 [8, 128, 28, 28]          147,456\n",
       "│    │    └─BatchNorm2d: 3-17            [8, 128, 28, 28]          256\n",
       "│    │    └─Sequential: 3-18             [8, 128, 28, 28]          8,448\n",
       "│    │    └─ReLU: 3-19                   [8, 128, 28, 28]          --\n",
       "│    └─BasicBlock: 2-4                   [8, 128, 28, 28]          --\n",
       "│    │    └─Conv2d: 3-20                 [8, 128, 28, 28]          147,456\n",
       "│    │    └─BatchNorm2d: 3-21            [8, 128, 28, 28]          256\n",
       "│    │    └─ReLU: 3-22                   [8, 128, 28, 28]          --\n",
       "│    │    └─Conv2d: 3-23                 [8, 128, 28, 28]          147,456\n",
       "│    │    └─BatchNorm2d: 3-24            [8, 128, 28, 28]          256\n",
       "│    │    └─ReLU: 3-25                   [8, 128, 28, 28]          --\n",
       "├─Sequential: 1-7                        [8, 256, 14, 14]          --\n",
       "│    └─BasicBlock: 2-5                   [8, 256, 14, 14]          --\n",
       "│    │    └─Conv2d: 3-26                 [8, 256, 14, 14]          294,912\n",
       "│    │    └─BatchNorm2d: 3-27            [8, 256, 14, 14]          512\n",
       "│    │    └─ReLU: 3-28                   [8, 256, 14, 14]          --\n",
       "│    │    └─Conv2d: 3-29                 [8, 256, 14, 14]          589,824\n",
       "│    │    └─BatchNorm2d: 3-30            [8, 256, 14, 14]          512\n",
       "│    │    └─Sequential: 3-31             [8, 256, 14, 14]          33,280\n",
       "│    │    └─ReLU: 3-32                   [8, 256, 14, 14]          --\n",
       "│    └─BasicBlock: 2-6                   [8, 256, 14, 14]          --\n",
       "│    │    └─Conv2d: 3-33                 [8, 256, 14, 14]          589,824\n",
       "│    │    └─BatchNorm2d: 3-34            [8, 256, 14, 14]          512\n",
       "│    │    └─ReLU: 3-35                   [8, 256, 14, 14]          --\n",
       "│    │    └─Conv2d: 3-36                 [8, 256, 14, 14]          589,824\n",
       "│    │    └─BatchNorm2d: 3-37            [8, 256, 14, 14]          512\n",
       "│    │    └─ReLU: 3-38                   [8, 256, 14, 14]          --\n",
       "├─Sequential: 1-8                        [8, 512, 7, 7]            --\n",
       "│    └─BasicBlock: 2-7                   [8, 512, 7, 7]            --\n",
       "│    │    └─Conv2d: 3-39                 [8, 512, 7, 7]            1,179,648\n",
       "│    │    └─BatchNorm2d: 3-40            [8, 512, 7, 7]            1,024\n",
       "│    │    └─ReLU: 3-41                   [8, 512, 7, 7]            --\n",
       "│    │    └─Conv2d: 3-42                 [8, 512, 7, 7]            2,359,296\n",
       "│    │    └─BatchNorm2d: 3-43            [8, 512, 7, 7]            1,024\n",
       "│    │    └─Sequential: 3-44             [8, 512, 7, 7]            132,096\n",
       "│    │    └─ReLU: 3-45                   [8, 512, 7, 7]            --\n",
       "│    └─BasicBlock: 2-8                   [8, 512, 7, 7]            --\n",
       "│    │    └─Conv2d: 3-46                 [8, 512, 7, 7]            2,359,296\n",
       "│    │    └─BatchNorm2d: 3-47            [8, 512, 7, 7]            1,024\n",
       "│    │    └─ReLU: 3-48                   [8, 512, 7, 7]            --\n",
       "│    │    └─Conv2d: 3-49                 [8, 512, 7, 7]            2,359,296\n",
       "│    │    └─BatchNorm2d: 3-50            [8, 512, 7, 7]            1,024\n",
       "│    │    └─ReLU: 3-51                   [8, 512, 7, 7]            --\n",
       "├─AdaptiveAvgPool2d: 1-9                 [8, 512, 1, 1]            --\n",
       "├─Linear: 1-10                           [8, 1000]                 513,000\n",
       "==========================================================================================\n",
       "Total params: 11,689,512\n",
       "Trainable params: 11,689,512\n",
       "Non-trainable params: 0\n",
       "Total mult-adds (Units.GIGABYTES): 14.51\n",
       "==========================================================================================\n",
       "Input size (MB): 4.82\n",
       "Forward/backward pass size (MB): 317.98\n",
       "Params size (MB): 46.76\n",
       "Estimated Total Size (MB): 369.55\n",
       "=========================================================================================="
      ]
     },
     "execution_count": 15,
     "metadata": {},
     "output_type": "execute_result"
    }
   ],
   "source": [
    "summary(model, (8, 3, 224, 224))"
   ]
  },
  {
   "cell_type": "code",
   "execution_count": 11,
   "id": "ab8cffbd-784c-49b3-998c-4114d0d5ff32",
   "metadata": {},
   "outputs": [
    {
     "name": "stdout",
     "output_type": "stream",
     "text": [
      "conv1.weight\n",
      "bn1.weight\n",
      "bn1.bias\n",
      "layer1.0.conv1.weight\n",
      "layer1.0.bn1.weight\n",
      "layer1.0.bn1.bias\n",
      "layer1.0.conv2.weight\n",
      "layer1.0.bn2.weight\n",
      "layer1.0.bn2.bias\n",
      "layer1.1.conv1.weight\n",
      "layer1.1.bn1.weight\n",
      "layer1.1.bn1.bias\n",
      "layer1.1.conv2.weight\n",
      "layer1.1.bn2.weight\n",
      "layer1.1.bn2.bias\n",
      "layer2.0.conv1.weight\n",
      "layer2.0.bn1.weight\n",
      "layer2.0.bn1.bias\n",
      "layer2.0.conv2.weight\n",
      "layer2.0.bn2.weight\n",
      "layer2.0.bn2.bias\n",
      "layer2.0.downsample.0.weight\n",
      "layer2.0.downsample.1.weight\n",
      "layer2.0.downsample.1.bias\n",
      "layer2.1.conv1.weight\n",
      "layer2.1.bn1.weight\n",
      "layer2.1.bn1.bias\n",
      "layer2.1.conv2.weight\n",
      "layer2.1.bn2.weight\n",
      "layer2.1.bn2.bias\n",
      "layer3.0.conv1.weight\n",
      "layer3.0.bn1.weight\n",
      "layer3.0.bn1.bias\n",
      "layer3.0.conv2.weight\n",
      "layer3.0.bn2.weight\n",
      "layer3.0.bn2.bias\n",
      "layer3.0.downsample.0.weight\n",
      "layer3.0.downsample.1.weight\n",
      "layer3.0.downsample.1.bias\n",
      "layer3.1.conv1.weight\n",
      "layer3.1.bn1.weight\n",
      "layer3.1.bn1.bias\n",
      "layer3.1.conv2.weight\n",
      "layer3.1.bn2.weight\n",
      "layer3.1.bn2.bias\n",
      "layer4.0.conv1.weight\n",
      "layer4.0.bn1.weight\n",
      "layer4.0.bn1.bias\n",
      "layer4.0.conv2.weight\n",
      "layer4.0.bn2.weight\n",
      "layer4.0.bn2.bias\n",
      "layer4.0.downsample.0.weight\n",
      "layer4.0.downsample.1.weight\n",
      "layer4.0.downsample.1.bias\n",
      "layer4.1.conv1.weight\n",
      "layer4.1.bn1.weight\n",
      "layer4.1.bn1.bias\n",
      "layer4.1.conv2.weight\n",
      "layer4.1.bn2.weight\n",
      "layer4.1.bn2.bias\n",
      "fc.weight\n",
      "fc.bias\n"
     ]
    }
   ],
   "source": [
    "for name, layer in model.named_parameters():\n",
    "    print(name)"
   ]
  },
  {
   "cell_type": "markdown",
   "id": "b6ad02eb-697f-41a8-b868-4aeb1dbe2ce2",
   "metadata": {},
   "source": [
    "# Data——NWPU-Crowd (to-download)"
   ]
  },
  {
   "cell_type": "markdown",
   "id": "7083794f-76e7-4cea-a455-b77fa7ca58d0",
   "metadata": {},
   "source": [
    "## 5,109 images, 2,133,375 annotated instances with point and box labels\n",
    "### [1-3109] train, [3110-3609] val, [3610-5109] test\n",
    "\n",
    "### .txt files include the [index, luminance label, scene level]\n",
    "#### luminance = 3 classes in YUV color space: [0, 0.25], (0.25, 0.5],and (0.5, 0.75]\n",
    "#### scene level = 5 classes based on num_people: 0, (0, 100], (100, 500], (500, 5000]"
   ]
  },
  {
   "cell_type": "markdown",
   "id": "dd73615e-36c3-46b4-975e-92c41b169207",
   "metadata": {},
   "source": [
    "## i) Labels"
   ]
  },
  {
   "cell_type": "code",
   "execution_count": 57,
   "id": "59ba6b74-c604-4c3b-b7d2-d5dedf154187",
   "metadata": {},
   "outputs": [],
   "source": [
    "train_labels = pd.read_csv('data/train.txt', sep=\" \", header=None)\n",
    "val_labels = pd.read_csv('data/val.txt', sep=\" \", header=None)\n",
    "test_labels = pd.read_csv('data/test.txt', sep=\" \", header=None)"
   ]
  },
  {
   "cell_type": "code",
   "execution_count": 58,
   "id": "0eb50a5e-1b60-415a-94c9-769b315c4bac",
   "metadata": {},
   "outputs": [],
   "source": [
    "def prep_labels(df):\n",
    "    df = df.drop(columns=0)\n",
    "    df = df.rename(columns={1: 'luminance', 2: 'scene_level'})\n",
    "    return df"
   ]
  },
  {
   "cell_type": "code",
   "execution_count": 59,
   "id": "c4b5f877-af99-493f-a628-8980868e3445",
   "metadata": {},
   "outputs": [],
   "source": [
    "train_labels = prep_labels(train_labels)\n",
    "val_labels = prep_labels(val_labels)\n",
    "test_labels = prep_labels(test_labels)"
   ]
  },
  {
   "cell_type": "markdown",
   "id": "c5dfd2a3-1fdd-49c4-b009-879953f95b3a",
   "metadata": {},
   "source": [
    "# not done. read json files to merge just \"img_id\" w/ df index and take \"human_num\""
   ]
  }
 ],
 "metadata": {
  "kernelspec": {
   "display_name": "Python 3 (ipykernel)",
   "language": "python",
   "name": "python3"
  },
  "language_info": {
   "codemirror_mode": {
    "name": "ipython",
    "version": 3
   },
   "file_extension": ".py",
   "mimetype": "text/x-python",
   "name": "python",
   "nbconvert_exporter": "python",
   "pygments_lexer": "ipython3",
   "version": "3.11.5"
  }
 },
 "nbformat": 4,
 "nbformat_minor": 5
}
